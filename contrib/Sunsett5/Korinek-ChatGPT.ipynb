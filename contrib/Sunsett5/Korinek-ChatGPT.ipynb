{
 "cells": [
  {
   "cell_type": "markdown",
   "id": "70bf03e8-5f6f-4a76-be4f-8cc6af975d0e",
   "metadata": {},
   "source": [
    "**Implementing Korinek's AI strategy in my paper**"
   ]
  },
  {
   "cell_type": "markdown",
   "id": "69cb696b-1bdb-4e8a-9235-e2a09a33811a",
   "metadata": {},
   "source": [
    "All seven strategies of using AI to hep writing an econ research paper by Korinek seem viable to my paper. Here, I decide to talk about \"Mathematical Derivations\" specifically because my paper is going to be about creating a sophisticated endogenous growth model and running monte carlo simulation. From literature review, past literatures have vastly different framework and assumption of endogenous growth. There are a few ideas that would be useful to reinvestigate from a different angle (e.g. instead of representative firm, try them with heterogenous agents model). Creating equations that work with new assumption and do not contradict existing ones can be challening. Not only do they have to be compatible, they have to be efficient enough so that my monte carlo simulation doesn't take too much time to run (considering that the model will have larger parameters and equations. One caveat thogh, is that, Korinek himself has warned that this aspect of AI is still largely in devlopment. This means that I will have to derive the equations myself as well, or at least check them through simulations. Another possible setback is that AI like ChatGPT might not be able to completely understand how the models work and came up with faulty assumptions."
   ]
  }
 ],
 "metadata": {
  "kernelspec": {
   "display_name": "Python 3 (ipykernel)",
   "language": "python",
   "name": "python3"
  },
  "language_info": {
   "codemirror_mode": {
    "name": "ipython",
    "version": 3
   },
   "file_extension": ".py",
   "mimetype": "text/x-python",
   "name": "python",
   "nbconvert_exporter": "python",
   "pygments_lexer": "ipython3",
   "version": "3.10.10"
  }
 },
 "nbformat": 4,
 "nbformat_minor": 5
}
