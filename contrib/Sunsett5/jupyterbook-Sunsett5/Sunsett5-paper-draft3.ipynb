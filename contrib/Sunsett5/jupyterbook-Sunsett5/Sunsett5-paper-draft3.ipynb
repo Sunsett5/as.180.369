{
 "cells": [
  {
   "cell_type": "markdown",
   "id": "a01a9576-aee9-4d56-b03e-b55138bd9872",
   "metadata": {
    "editable": true,
    "slideshow": {
     "slide_type": "slide"
    },
    "tags": []
   },
   "source": [
    "# A Heterogeneous-agents Model of Endogeneous Growth"
   ]
  },
  {
   "cell_type": "markdown",
   "id": "c7a1b636-996f-44c1-ad84-a1f0938ff05b",
   "metadata": {
    "editable": true,
    "slideshow": {
     "slide_type": "fragment"
    },
    "tags": []
   },
   "source": [
    "## Abstract\n",
    "$\\lambda$\n",
    "The study extends the scope of endogenous growth model with heterogeneous-agents models. While the concept of endogenous growth driven by the R&D sector has been extensively studied, the majority of pioneering works, such as {cite:t}`Romer_1990`, have been grounded in the assumption of homogeneous research products. Building on recent contributions by {cite:t}`Dosi_Roventini_Russo_2017`, which introduced heterogeneity into the production and R&D process, this paper introduce overlooked heterogeneity in the size of R&D expense and distinct preferences for engaging in innovative research as opposed to imitating other firms in the same industry. Models' parameters will be adjusted to study the underlying uncertainty of innovative R&D and the environment in which innovation thrives in an international market setting. Through Monte Carlo simulations, this research explores the implications of heterogeneity within these various agents on innovation, long-term productivity growth, and convergence. By addressing this important research gap, we aim to shed light on the nuanced dynamics that govern economic growth and identify possible sources to divergence observed in cross-country empirical studies."
   ]
  },
  {
   "cell_type": "markdown",
   "id": "ed960bae-386f-4c2d-b687-7b6bdd892ea3",
   "metadata": {
    "editable": true,
    "slideshow": {
     "slide_type": "slide"
    },
    "tags": []
   },
   "source": [
    "<center><img src=\"images/A_survive_20_40_40_11_0.2_1.jpg\" width=\"800\"></center>"
   ]
  },
  {
   "cell_type": "markdown",
   "id": "7ebcf686-9e8a-4347-9e93-535d8d2288cc",
   "metadata": {
    "editable": true,
    "slideshow": {
     "slide_type": ""
    },
    "tags": []
   },
   "source": [
    "## Introduction\n",
    "\n",
    "{cite:t}`Romer_1990`'s endogenous growth model introduces new ways of looking at growth in total factor productivity through technology. In his model, research and development (R&D) as an alternative sector which utilizes labor and capital resources to produce knowledge, a partially excludable good. Creating knowledge requires diverting human and capital stocks away from consumer goods and capital production. The economy in turn trades current consumption for future productivity growth. Knowledge, however, possesses a unique attribute separating it from consumer and capital goods – it is only partially excludable due to intellectual property laws. Other agents can freely utilize this spillover knowledge to advance their own research, not infringing on intellectual property rights. This situation results in positive externalities that contribute to economic growth. Nonetheless, profit-maximizing agents, driven solely by private benefits, often disregard these broader social advantages. This leads to two noteworthy consequences: First, investments in capital are below optimal level, and the employment of researchers remains Pareto inefficient ({cite:t}`Fine_2000`). Second, developing countries can capitalize on the existing knowledge created by more technologically-advanced nations without the need to invest significantly in their research and development.\n",
    "\n",
    "This advantage enables developing countries to catch up with their technologically advanced counterparts. In theory, advanced economies operating at the technological frontier should experience a slowdown in growth, ultimately closing the gap between countries with varying levels of technological advancement. This concept, often referred to as \"convergence\" in economic growth, has, however, not found strong empirical support. In {cite:t}`Johnson_Papageorgiou_2020`'s comprehensive survey of convergence literature spanning the last five decades, the income gap between poorer and richer countries has shown more persistence than conventional theory would suggest.\n",
    "\n",
    "In response to this challenge, the term of \"conditional convergence\" emerged, asserting that two countries will reach the same steady state of economic growth only if their internal factors supporting economic growth are aligned. Several studies have sought to identify these critical internal factors. For instance, {cite:t}`Barro_Sala-i-Martin_2014` examined a panel of 88 countries, investigating 67 explanatory variables frequently utilized in empirical growth literature. These variables encompass factors like life expectancy, fertility rates, rule of law indices, education, investment ratios, government expenditure ratios, openness, terms-of-trade, inflation, democracy, and more. The significance of each variable is subject to the chosen functional forms and the set of variables under consideration {cite:t}`Barro_2015`.\n",
    "\n",
    "To bridge the gap between endogenous growth models and these empirical observations, {cite:t}`Dosi_Roventini_Russo_2017` introduced a multi-country, multi-industry agent-based model. This model incorporates heterogeneous firms from different countries and industries, engaging in competitive international trade. In contrast to {cite:t}`Romer_1990`, the multi-sectoral framework facilitates the observation of structural changes. Additionally, the open economy feature illustrates how countries exploit technology gaps, shedding light on whether convergence, divergence, or polarization into low- and high-growth economies occurs. \n",
    "\n",
    "{cite:t}`Dosi_Roventini_Russo_2017` make valuable contributions to endogenous growth theories, introducing heterogeneity among firms and the skills of workers. Yet, one aspect that has remained relatively unexplored is the concious choice between innovation and imitation R&D. Firms must assess whether a specific R&D innovation is going to be successful, reflecting the underlying uncertainty of operating at the frontier of technology. In contrast, firms could invest in R&D imitation project instead, which relies on the positive externality nature of knowledge. As the profitability of a certain R&D project depends greatly on the actions other firms are taking, the models can be best modeled with heterogenous agents making decisions based on their distinct stock of capital, market share, current productivity, etc. compared to other firms in international markets. The choices made by these agents are also influenced by macroeconomic variables, such as policy interest rates, world interest rates, inflation, political stability, and market volatility.\n",
    "\n",
    "This research employs Monte Carlo simulations to explore the implications of heterogeneity within these diverse agents on innovation, long-term productivity growth, and convergence. By introducing this new dimension of factors that afftect innovation tendency, we aim to illuminate the nuanced dynamics underlying economic growth and identify potential sources for the observed divergence in cross-country empirical studies."
   ]
  },
  {
   "cell_type": "markdown",
   "id": "64af2355-e1f1-4073-9d2d-099760e94c5c",
   "metadata": {
    "editable": true,
    "slideshow": {
     "slide_type": ""
    },
    "tags": []
   },
   "source": [
    "## Literature Review\n",
    "\n",
    "Given the same level of labor and capital, modern economies can produce much more efficiently than their historical counterparts due to an increase in total factor productivity (TFP). Economists in the 1950s attributed most of this growth to technological advancement ({cite:t}`Schultz_Abramovitz_1957`; {cite:t}`Kendrick_1956`; {cite:t}`Solow_1956`). Despite acknowledging technology as primary driver of long-run growth, early economic models continued to treat it as an exogenous factor, requiring empirical observation. However, in contrast to these earlier approaches, more recent models, notably {cite:t}`Romer_1990`'s endogenous technological change model, have internalized technology as a consequence of profit-maximizing economic agents.\n",
    "\n",
    "On the topic of endogenous growth, the influence of {cite:t}`Romer_1990` cannot be overstated. His paper formalized the partial excludability of knowledge. Both simple observation and economic principles support this quality of knowledge as a good. Practical examples include patents, copyright, trade secrets, industrial design rights, database rights, etc. which are protected by intellectual property laws. This protection excludes other firms from directly utilizing the research product but not prevents them to learn from the knowledge that might be made public and create new innovations of their own. On the economic side, {cite:t}`Romer_1990` explains that without some degree of excludablity, firms will not be incentived to engage in research in the first place. This is particularly critical in perfectly competitive market with identical firms because they cannot afford to incur cost higher than the market marginal cost of production. Had one firm engaged in research, they would lose profitability in the short run and gain no competitive edge in the long run without excludability.\n",
    "\n",
    "The concern of suboptimal level of R&D still holds even in partial excludability case. {cite:t}`Arrow_1962` and {cite:t}`Romer_1986` demonstrates that decentralized choices can lead to suboptimal level of research because private agents do not account for spillovers of knowledge. This problem leads to a new branch of models such as in {cite:t}`Barro_1990` which focuses on whether government spending can help fix market failure. ~~In order to test model robustness, empirical research on conditional convergence are conducted. {cite:t}`Barro_2015`.~~\n",
    "\n",
    "Recent theoretical research began to put more focus on heterogeneity of economic agents. {cite:t}`Arawatari_Hori_Mino_2023` proposed a heterogeneous-agents model that takes into account labor market heterogeneity. In his model, household agents exhibit varying levels of entrepreneurial ability, affecting their inclination to engage in innovation and their compensation. {cite:t}`Arawatari_Hori_Mino_2023`'s model consists of one closed economy and is calibrated to observe the impact of government expenditures on economic growth based on U.S. data.\n",
    "\n",
    "{cite:t}`Dosi_Roventini_Russo_2017` presents another model which investigates the role of the international market in technology accumulation through a heterogenous-agent model with imperfect competition. Instead of modelling research as a separate sector as in {cite:t}`Romer_1990`, he assumed that research occurs inside each consumption-good firm. The specification implies that partial excludability must exist in the form of market power for consumption goods. Nonetheless, {cite:t}`Romer_1990` stated that such distinction is inconsequential to the result observed. {cite:t}`Dosi_Roventini_Russo_2017`'s model also explicit identify the difference between innovation and imitation as two separate R&D choices; however, he assumes the ratio of of R&D spent on each category to be fixed and homogenous among all agents.\n",
    "\n",
    "I view this assumption as a significant simplification because firms may have heterogenous preferences on innovation and imitation. Since innovation involves high uncertainty, some might be drawn to the untapped potential, while others may choose to adopt existing technology from other firms instead. {source} Thus, this paper will provide an extension to {cite:t}`Dosi_Roventini_Russo_2017` through heterogenous R&D preference. In addition, many simplifying assumptions will be lifted and substituted with market-based mechanism."
   ]
  },
  {
   "cell_type": "markdown",
   "id": "b91b3de1-d88c-406c-aefc-e3abbd952e96",
   "metadata": {},
   "source": [
    "## Methodology\n",
    "\n",
    "The model presented here is based primarily on the evolutionary model of economic growth by {cite:t}`Nelson_Winter_2004` and innovation-imitation process of the Bass diffusion model {cite:t}`Bass_1969`. The original model of {cite:t}`Nelson_Winter_2004` is a variation of enodogenous growth models that aims to determine optimal decision through natural selection rather than analytically solving for profit-maximizing behavior at equilibrium as in orthodox approaches. I adapted the model to include multiple economies with heterogenous starting levels of total factor productivity in order to study the effect of R&D on convergence. The model consists of $N$ economies (indexed by $i$) with $S$ firms per country. The goods produced in this model are assumed to be the same kind; however, each firm possesses market power corresponding to their market share. Thus, the market is imperfectly competitive.\n",
    "\n",
    "Technological growth can occur either due to innovation of new technology or imitation from other firms in the same industry. The innovation process becomes dominant when firms have high market power and are able to exclusively profits from their private knowledge. This benefit is offset by the imitation process which reflects the partial-excludability of knowledge stock discussed in {cite:t}`Romer_1990` and allows for the possibility of economic convergence. \n",
    "\n",
    "### Timeline of the events\n",
    "1. At the start of time step $t$, each firm $j$ generates revenue from its existing technology. The gross profit is spent on R&D operation either through innovation or imitation, while the rest is recorded as net income.\n",
    "2. If the R&D operation is successful, the firm labor productivity will increase at time step $t+1$.\n",
    "3. Firms' market share evolves as they discover new technology and can achieve more (or less) competitive pricing.\n",
    "4. After a period of time, entry and exit of firms are determined by their net profit margin, which is calculated from net income and revunue. Therefore, firms with high market power or high total factor productivity are most likely to stay in the industry.\n",
    "5. Step 1-3 are repeated until dynamic equilibrium is achieved. At this point, surviving firms are those with optimal investment routines.\n",
    "\n",
    "The following sections will discuss the model framework in details.\n"
   ]
  },
  {
   "cell_type": "markdown",
   "id": "ac46f13e-f401-4260-a338-1e4ee040215e",
   "metadata": {},
   "source": [
    "### The Model\n",
    "\n",
    "**Step 1 Consumption-Good Production:** \n",
    "\n",
    "A common feature of economic growth model is an assumption of constant or increasing returns to factors of production. In {cite:t}`Lucas_1988` and {cite:t}`Rebelo_1991`, the constant returns to scale applies to both rival $($labor $L$ and capital $K)$ and nonrival $($technology $A)$ factors. However, I choose not to excplicitly model the factors of production here because this paper focuses on innovation and imitation of which characterstics can be studied independently.\n",
    "\n",
    "Thus, the efficiency production depends only on the total factor productivity $(A)$, while sales depend on th market share $(f)$ and mark-up $(m)$ on the cost of production. The revenue $(R)$ is calculated as:\n",
    "\n",
    "\\begin{align}\n",
    "R &= (1+m)fA\n",
    "\\end{align}\n",
    "\n",
    "In contrast to the \"learning by doing\" model of {cite:t}`Arrow_1962`, knowledge is not automatically generated through production in this model. I follow {cite:t}`Dosi_Roventini_Russo_2017`'s approach of allocating a part of revenues to R&D spending with one important adjustment. In {cite:t}`Dosi_Roventini_Russo_2017`, every firm in the model are assumed to spend fixed and equal proportion of their revenues on innovation and imitation. This approach has two limitations: 1. It ignores the heterogeneity of firms. Some firms might aim to innovate and constantly push the frontier in order to gain temporary benefits from the partially-excludable knowledge. Other firms might instead employ a \"fast second\" strategy and focus on replicating existing technology ({cite:t}`Nelson_Winter_2004`). 2. In different market conditions, firms' optimal investment behaviors are likely to differ. Through variation and subsequent natural selection, the optimal solutions at the dynamic equilibrium can de determined.\n",
    "\n",
    "Let $\\rho$ be the proportion of revenue spent on R&D investments, and $\\lambda$ of which is through innovation. Then, the total revenue $R$ are allocated in the following ways: 1. Net Income $(NI)$ 2. Innovation Spending $(IN)$ and 3. Imitation Spending $(IM)$.\n",
    "\n",
    "\\begin{align}\n",
    "NI &= (1-\\rho)R\\\\\n",
    "IN &= \\rho \\lambda R\\\\\n",
    "IM &= \\rho (1-\\lambda) R\n",
    "\\end{align}"
   ]
  },
  {
   "cell_type": "markdown",
   "id": "bca15a4d-c6c2-4ecc-b5b3-96c70bb5e754",
   "metadata": {},
   "source": [
    "**Step 2: Private Research and Development (R&D)**\n",
    "\n",
    "One approach of modeling firms' behavior is analytical at micro level. Since the formulation of expectation in hetereogenous agents model can be complicated to model, require numerous assumptions especially during transition toward equilibrium ({cite:t}`Nelson_Winter_2004`), this paper does not attempt to perform such analytic investigation. Instead, Monte Carlo similution is employed to measure the effectiveness of each R&D choice through natural selection process which will \"drive from an in­ dustry all but the efficient profit maximizers\" ({cite:t}`Nelson_Winter_2004`). \n",
    "\n",
    "Each firm is assigned a fixed proportion ($\\rho$) of revenue spent on R&D and ($\\lambda$) of which that will be spent on innovation ($IN$). Both are drawn unifromly and independently from $U(0,1)$ at the start of simulation.  In the spirit of {cite:t}`Friedman_1953`, \"Let the apparent immediate determinant of business behavior be any­ thing at all-habitual reaction, random chance or what not. When­ ever this determinant happens to lead to behavior consistent with rational and informed maximization of returns, the business will prosper and acquire resources with which to expand; whenever it does not the business will tend to lose resources and can be kept in existence only by the addition of resources from outside.\" This uninformative prior of firms' distribution ensures that most of the possible decisions are first considered. Then, the unprofitable ones are gradually eliminated and substituted with more profitatble firms.\n",
    "\n",
    "\\begin{align}\n",
    "\\rho_{i,j} \\sim U(0,1)\\\\\n",
    "\\lambda_{i,j} \\sim U(0,1)\n",
    "\\end{align}\n",
    "\n",
    "In line with {cite:t}`Dosi_Roventini_Russo_2017`, the innovation and imitation processes are modeled as two-step stochastic process. Firstly, the success of innovation or imitation is drawn from $Bern(\\theta)$. The probabilities of success ($\\theta _\\text{IN}, \\theta _\\text{IM}$) are positively related to R&D expenditure. In order to study the environment in which innovation is relatively more successful than imitation and vice versa, the firms' search capabilities ($\\xi_{1,2} > 0$) are adjustable.\n",
    "\n",
    "\\begin{align}\n",
    "\\theta _\\text{IN} &= 1-\\exp\\bigl[-\\xi_1 f \\rho \\lambda\\bigl]\\\\\n",
    "\\theta _\\text{IM} &= 1-\\exp\\bigl[-\\xi_2 f \\rho (1-\\lambda)\\bigl]\n",
    "\\end{align}\n",
    "\n",
    "The equations above are modified from {cite:t}`Dosi_Roventini_Russo_2017`, in that the success rate of R&D no longer depends on the spending $IN$, $IM$ directly. In such model, R&D search procedure will be exponentially more successful as the economy grows larger (higher $A$), thereby reducing the impact of varying investment decisions since $\\theta$ will be approaching 1 regardless of the decisions. Here, $\\theta$ depends on R&D ratio $\\rho$, innovation ratio $\\lambda$, and the market share $(f)$ since larger firms benefit from economies of scale in knowledge production and possess superior managment, financing, risk-spreading ({cite:t}`Schumpeter_1950`).\n",
    "\n",
    "The firm with successful innovation learns new production technique at time $t+1$. The productivity of the discovered technology ($A\\text{in}$) is uncertain in nature:\n",
    "\n",
    "\\begin{align}\n",
    "A_{\\text{IN}}(t+1) = A(t) (1+x(t))\n",
    "\\end{align}\n",
    "\n",
    "where $x$ is drawn from $Beta(\\alpha _1,\\beta _1)$ with support $[\\underline{x}_1,\\overline{x}_1]$. Since the acquire technology may or may not improve current productivity, I set $\\underline{x}_1 \\in [-1,0]$ and $\\overline{x}_1 \\in [0,1]$.\n",
    "\n",
    "A firm with successful imitation will randomly copy another firm productivity. As in {cite:t}`Nelson_Winter_2004`, the probability to imitate a particular is proportional to the market share $f$ of the firms. Firms are assumed to look for \"widely used techniques\" as opposed to \"best practice\" and thus are more likely to learn the technology from dominant firms in the market {cite:t}`Nelson_Winter_2004`. This is in line with the models of diffusion in which firms can only discern the effectiveness of each technique through its apparent success. Consequently, a successful innovation will only be noticeable to other firms when it is able to reduce cost and occupy higher market share over a period of time. The advantageous outcome of this assumption is that innovative firms have longer time to monopolistically benefit from its own innovation. The imitation processes occur both domestically and internationally, although international imitation incurs a multiplicative penalty $\\epsilon > 1$ to the probability of being imitated. The challenge of imitating foreign techniques are further discussed in {cite:t}`Abramovitz_1986` and {cite:t}`Fagerberg_Godinho_2006`.\n",
    "\n",
    "Finally, the firm compares its newly acquired techniques from innovation or imitation with its existing techniques and choose to adopt the one with highest productivity.\n",
    "\n",
    "\\begin{align}\n",
    "A(t+1)=\\max\\Bigl\\{A(t),A_{\\text{IN}} (t+1),A_{\\text{IM}} (t+1)\\Bigr\\}\n",
    "\\end{align}"
   ]
  },
  {
   "cell_type": "markdown",
   "id": "9e90c234-fa88-4412-9828-787861266b97",
   "metadata": {},
   "source": [
    "**Step 3: Evolution of Firms' Market Share**\n",
    "\n",
    "The following section follows {cite:t}`Dosi_Roventini_Russo_2017`'s market dynamics model, but the Schumpeterian exit and entry dynamics is adjusted to allow for dynamics of heterogeneity in R&D spending.\n",
    "\n",
    "The fundamental assumption is imperfect competition due to differentiated goods in the same industry. Firms can expand their market share by utilizing more cost-effective technology, lowering price, and increasing their competitiveness $(E)$. \n",
    "\n",
    "Firms with competitive pricing $E$ will then gain progressively higher market share $f$, and consequently can charge higher price. This in turn decreases its competitiveness to the average level in the long run. The evolution of market share $f$ can be summarized as follow:\n",
    "\n",
    "\\begin{align}\n",
    "&\\text{Better techniques} \\ A \\uparrow \\rightarrow \\text{Lower price} \\ p \\downarrow \\rightarrow \\text{Increased competitiveness} \\ E \\uparrow \\rightarrow \\text{Increasing market share} \\ \\Delta f \\uparrow \\\\ \n",
    "&\\rightarrow \\text{Increased market power} \\ m \\uparrow \\rightarrow \\text{Decreased competitiveness} \\ E \\downarrow \\rightarrow  \\text{Market share aproaching new equilibrium} \\ \\Delta f \\downarrow\n",
    "\\end{align}\n",
    "\n",
    "In line with negative demand curve for imperfect competition, competitiveness $E$ is inversely related to its price,\n",
    "\n",
    "\\begin{align}\n",
    "E &\\varpropto \\frac{1}{p} \\varpropto \\frac{A}{m}\n",
    "\\end{align}\n",
    "\n",
    "with the national average competitiveness weighted by market shares summed over all firms in country $i$:\n",
    "\n",
    "\\begin{align}\n",
    "\\overline{E_i}= \\sum_{j=1}^S f_{i,j} E_{i,j}\n",
    "\\end{align}\n",
    "\n",
    "The deviation of a firm's competitiveness from the average competitiveness $\\overline{E}_i$ determine its dynamics of monopoly through a quasi-replication process.\n",
    "\n",
    "\\begin{align}\n",
    "f_{i,j}(t+1) = f_{i,j}(t)\\Biggl(1+\\chi \\frac{E_{i,j}(t)-\\overline{E}_{i}(t))}{\\overline{E}_{i}(t)}\\Biggr)\n",
    "\\end{align}\n",
    "\n",
    "with $\\chi > 0$ representing the speed of adjustment of market share in response to changing competitiveness \n",
    "\n",
    "In contrast to {cite:t}`Dosi_Roventini_Russo_2017`, the mark-up ratio is modelled to adjust contemporaneously and proportionally to the evolving market share for simplification.\n",
    "\n",
    "\\begin{align}\n",
    "m_i = f_i \\; (m_\\text{max})\n",
    "\\end{align}\n",
    "\n",
    "with $m_\\text{max}$ = 0.2 for every country."
   ]
  },
  {
   "cell_type": "markdown",
   "id": "4204e286-dcc4-4d08-8ecd-637503110dfc",
   "metadata": {},
   "source": [
    "## Results\n",
    "To examine the dynamics of technological innovation and the extent of convergence, every firm is assigned the same level of initial productivity. Their proportions of profits reinvested in R&D ($\\rho^i_{j,h}$) and the proportions of R&D expenditure allocated to innovation ($\\lambda^i_{j,h}$) are uniformly sampled from the interval $(0,1)$ at the outset of the simulation. Subsequently, their productivity evolves in accordance with the prior timestep's R&D investments. At the conclusion of each iteration, I calculate total profits (net reinvestment on R&D spending) and eliminate the firms in the bottom 10th percentile of profits from the market. These vacant positions are then filled by uniformly sampling from the surviving firms.\n",
    "\n",
    "In the following section, I present the results of the Monte Carlo simulations."
   ]
  },
  {
   "cell_type": "markdown",
   "id": "75f3463a-362b-4d9a-8e5d-dfe70bde60aa",
   "metadata": {
    "editable": true,
    "slideshow": {
     "slide_type": ""
    },
    "tags": []
   },
   "source": [
    "### Dynamics of Productivity\n",
    "\n",
    "{ref}`A_trend_20_40_40_11_1_0.2-fig` and {ref}`A_trend_20_40_40_11_0.2_1-fig` show the dynamics of firm productivity in 10 cycles of market elimination. In an environment where immitation dominates innovation in terms of effectiveness per dollar spent [{ref}`A_survive_20_40_40_11_0.2_1-fig`], firms seem to exhibit stronger degree of divergence than [{ref}`A_survive_20_40_40_11_1_0.2-fig`]. This is as expected from the model's specification, since firms intrinsically face higher difficultly in imitating other firms.\n",
    "\n",
    "```{figure} images/A_trend_20_40_40_11_1.4_0.4.png\n",
    "---\n",
    "height: 300px\n",
    "name: A_trend_20_40_40_11_1_0.2-fig\n",
    "---\n",
    "Productivity exhibit convergence behavior $(\\xi_{IN} = 1.4 \\quad \\xi_{IM} = 0.4)$\n",
    "```\n",
    "```{figure} images/A_trend_20_40_40_11_0.4_1.4.png\n",
    "---\n",
    "height: 300px\n",
    "name: A_trend_20_40_40_11_0.2_1-fig\n",
    "---\n",
    "Productivity exhibit convergence behavior $(\\xi_{IN} = 0.4 \\quad \\xi_{IM} = 1.4)$\n",
    "```"
   ]
  },
  {
   "cell_type": "markdown",
   "id": "4babc757-7164-40d4-b801-884a8be12254",
   "metadata": {
    "editable": true,
    "slideshow": {
     "slide_type": ""
    },
    "tags": []
   },
   "source": [
    "After each cycle, I regress the growth rate of productivity against the initial productivity of each cycle. The coefficient of regression ($\\beta$) represents how the degree of convergence of the economy. {ref}`beta_20_40_40_11_1_0.2-fig` and {ref}`beta_20_40_40_11_0.2_1-fig` show the evolution of $\\beta$-convergence and 95% Monte Carlo confidence intervals.\n",
    "\n",
    "```{figure} images/beta_20_40_40_11_1_0.2.jpg\n",
    "---\n",
    "height: 300px\n",
    "name: beta_20_40_40_11_1_0.2-fig\n",
    "---\n",
    "Posterior Distribution of Profits\n",
    "$\\xi_{IN} = 1 \\quad \\xi_{IM} = 0.2$\n",
    "```\n",
    "\n",
    "```{figure} images/beta_20_40_40_11_0.2_1.jpg\n",
    "---\n",
    "height: 300px\n",
    "name: beta_20_40_40_11_0.2_1-fig\n",
    "---\n",
    "Posterior Distibution of Profits\n",
    "$\\xi_{IN} = 0.2 \\quad \\xi_{IM} = 1$\n",
    "```"
   ]
  },
  {
   "cell_type": "markdown",
   "id": "d6e56ed7-3df6-4a54-b924-b7e3ff402bc5",
   "metadata": {},
   "source": [
    "### Firms' search capabilities\n",
    "Each firm is given identical search capabilities which determine the effectiveness of innovation and imitation process. {ref}`profits_20_40_40_11_1_0.2-fig` and {ref}`profits_20_40_40_11_0.2_1-fig` show the posterior distribution of firms' profits. As anticipated from the elimination process, surviving firms all have similar level of profits compared to the pior distribution of profits. This represents an equilibrium where each firm is making optimal decisions given the decisions of other firms in the market.\n",
    "\n",
    "```{figure} images/profits_20_40_40_11_1.4_1.4.png\n",
    "---\n",
    "height: 300px\n",
    "name: profits_20_40_40_11_1.4_1.4-fig\n",
    "---\n",
    "Both innovation and imitation are equally effective\n",
    "$\\xi_{IN} = 1.4 \\quad \\xi_{IM} = 1.4$\n",
    "```\n",
    "\n",
    "```{figure} images/profits_20_40_40_11_1.4_0.4.png\n",
    "---\n",
    "height: 300px\n",
    "name: profits_20_40_40_11_1.4_0.4-fig\n",
    "---\n",
    "Innovation is significantly more effective\n",
    "$\\xi_{IN} = 1.4 \\quad \\xi_{IM} = 0.4$\n",
    "```\n",
    "\n",
    "\n",
    "```{figure} images/profits_20_40_40_11_0.4_1.4.png\n",
    "---\n",
    "height: 300px\n",
    "name: profits_20_40_40_11_0.4_1.4-fig\n",
    "---\n",
    "Immitation is significantly more effective\n",
    "$\\xi_{IN} = 0.4 \\quad \\xi_{IM} = 1.4$\n",
    "```\n",
    "\n",
    "\n",
    "```{figure} images/profits_20_40_40_11_0.4_0.4.png\n",
    "---\n",
    "height: 300px\n",
    "name: profits_20_40_40_11_0.4_0.4-fig\n",
    "---\n",
    "Both innovation and imitation are equally ineffective\n",
    "$\\xi_{IN} = 0.4 \\quad \\xi_{IM} = 0.4$\n",
    "```\n",
    "\n",
    "{ref}`A_survive_20_40_40_11_1_0.2-fig` and {ref}`A_survive_20_40_40_11_0.2_1-fig` show the posterior distribution of firms' propensity to research ($\\rho^i_{j,h}$) and propensity to innovate ($\\lambda^i_{j,h}$) after 10 cycles of market elimination. \n",
    "\n",
    "\n",
    "```{figure} images/A_survive_20_340_40_11_1_0.2.jpg\n",
    "---\n",
    "height: 300px\n",
    "name: A_survive_20_40_40_11_1_0.2-fig\n",
    "---\n",
    "$\\xi_{IN} = 1 \\quad \\xi_{IM} = 0.2$\n",
    "```\n",
    "\n",
    "```{figure} images/A_survive_20_340_40_11_0.2_1.jpg\n",
    "---\n",
    "height: 300px\n",
    "name: A_survive_20_40_40_11_0.2_1-fig\n",
    "---\n",
    "$\\xi_{IN} = 0.2 \\quad \\xi_{IM} = 1$\n",
    "```\n",
    "\n",
    "In an imitation dominant environment [{ref}`A_survive_20_40_40_11_0.2_1-fig`], surviving firms tend to stay in the region $\\lambda$ > $\\rho$ with large accumulation of firms settling along the critical line $\\lambda$ = $\\rho$. On the contrary, when innovation dominates imitation [{ref}`A_survive_20_40_40_11_1_0.2-fig`], firms are also able to settle in the region close but below the critical line $\\lambda$ = $\\rho$."
   ]
  },
  {
   "cell_type": "markdown",
   "id": "aa6ef240-e54e-441d-b53e-614566ad7855",
   "metadata": {},
   "source": [
    "```{figure} images/A_survive_20_40_340_11_1_0.2_c.jpg\n",
    "---\n",
    "height: 300px\n",
    "name: profits_20_40_40_11_1_0.2-fig\n",
    "---\n",
    "Posterior Distribution of Profits\n",
    "$\\xi_{IN} = 1 \\quad \\xi_{IM} = 0.2$\n",
    "```"
   ]
  },
  {
   "cell_type": "code",
   "execution_count": null,
   "id": "66c8d29d-3330-4c1e-b10b-bc3adb0579bd",
   "metadata": {},
   "outputs": [],
   "source": []
  },
  {
   "cell_type": "markdown",
   "id": "48b9f8ec-adb7-42c7-a18d-07ccfc8dfb61",
   "metadata": {},
   "source": [
    "```{bibliography}\n",
    "```"
   ]
  }
 ],
 "metadata": {
  "kernelspec": {
   "display_name": "Python 3 (ipykernel)",
   "language": "python",
   "name": "python3"
  },
  "language_info": {
   "codemirror_mode": {
    "name": "ipython",
    "version": 3
   },
   "file_extension": ".py",
   "mimetype": "text/x-python",
   "name": "python",
   "nbconvert_exporter": "python",
   "pygments_lexer": "ipython3",
   "version": "3.10.10"
  }
 },
 "nbformat": 4,
 "nbformat_minor": 5
}
