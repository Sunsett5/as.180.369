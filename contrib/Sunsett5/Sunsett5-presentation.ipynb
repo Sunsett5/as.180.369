{
 "cells": [
  {
   "cell_type": "markdown",
   "id": "cdd7d7eb-64fb-435d-b199-7b144eb04d2a",
   "metadata": {
    "editable": true,
    "slideshow": {
     "slide_type": "slide"
    },
    "tags": []
   },
   "source": [
    "## Endogenous Growth Model with Heterogeneous Agents: \n",
    "## A Monte Carlo Simulation Approach\n",
    "### Sun Tanomkiattikun"
   ]
  },
  {
   "cell_type": "markdown",
   "id": "067a6ef2-20c4-48a1-a11f-812ac2add403",
   "metadata": {
    "editable": true,
    "slideshow": {
     "slide_type": "slide"
    },
    "tags": []
   },
   "source": [
    "# Introduction\n",
    "## <ins>Economic Growth</ins>"
   ]
  },
  {
   "cell_type": "markdown",
   "id": "c180789f-052b-478e-a877-1ec5a59d96e0",
   "metadata": {
    "editable": true,
    "slideshow": {
     "slide_type": "fragment"
    },
    "tags": []
   },
   "source": [
    "### Source of growth: Exogenous (`Solow_1956`)"
   ]
  },
  {
   "cell_type": "markdown",
   "id": "f96cda86-966f-4b8c-8aa2-93de7211ab09",
   "metadata": {
    "editable": true,
    "slideshow": {
     "slide_type": "fragment"
    },
    "tags": []
   },
   "source": [
    "### Convergence: Will less technologically-advanced countries \"catch up?\""
   ]
  },
  {
   "cell_type": "markdown",
   "id": "17f38695-0df6-4a34-a940-1cee481012ba",
   "metadata": {
    "editable": true,
    "slideshow": {
     "slide_type": "fragment"
    },
    "tags": []
   },
   "source": [
    "## <ins>What drives growth?</ins>"
   ]
  },
  {
   "cell_type": "markdown",
   "id": "6f59d078-a1dc-4dcd-a4d5-978c7feed6e2",
   "metadata": {
    "editable": true,
    "slideshow": {
     "slide_type": "fragment"
    },
    "tags": []
   },
   "source": [
    "### Empirical Research: `Barro_Sala-i-Martin_2014` examined a panel of 88 countries, investigating 67 explanatory variables."
   ]
  },
  {
   "cell_type": "markdown",
   "id": "1a02e79a-f617-4590-a832-40fd57e34466",
   "metadata": {
    "editable": true,
    "slideshow": {
     "slide_type": "slide"
    },
    "tags": []
   },
   "source": [
    "## Factors: Life expectancy, fertility rates, rule of law indices, education, investment ratios, government expenditure ratios, openness, terms-of-trade, inflation, democracy, etc."
   ]
  },
  {
   "cell_type": "markdown",
   "id": "2bd581b8-0d91-4a55-925c-aed7ae9b4c14",
   "metadata": {
    "editable": true,
    "slideshow": {
     "slide_type": "fragment"
    },
    "tags": []
   },
   "source": [
    "# Focus: R & D Investment"
   ]
  },
  {
   "cell_type": "markdown",
   "id": "0cf6df96-1db1-4bee-a057-de19977bc023",
   "metadata": {
    "editable": true,
    "slideshow": {
     "slide_type": "slide"
    },
    "tags": []
   },
   "source": [
    "## <ins>Creative Destruction</ins>"
   ]
  },
  {
   "cell_type": "markdown",
   "id": "f12e2e29-7578-4b77-9558-2ba4f5f41ba8",
   "metadata": {
    "editable": true,
    "slideshow": {
     "slide_type": "fragment"
    },
    "tags": []
   },
   "source": [
    "## Schumpeter's model: Innovative firms have temporary market power.\n",
    "## Profitability promotes innovation and eliminate obsolete players."
   ]
  },
  {
   "cell_type": "markdown",
   "id": "7764bec2-55a1-4074-bf5b-79cefd514848",
   "metadata": {
    "editable": true,
    "slideshow": {
     "slide_type": "slide"
    },
    "tags": []
   },
   "source": [
    "## <ins>Endogenous Growth Model</ins>"
   ]
  },
  {
   "cell_type": "markdown",
   "id": "5771c496-4a2a-406a-9250-a3ace6241dd7",
   "metadata": {
    "editable": true,
    "slideshow": {
     "slide_type": "fragment"
    },
    "tags": []
   },
   "source": [
    "### Source of growth: R&D sector producing knowledge which translates to increased productivity (`Romer_1990`)."
   ]
  },
  {
   "cell_type": "markdown",
   "id": "0f6d5fcd-a1db-4a97-8c7f-7a3803ead35f",
   "metadata": {
    "editable": true,
    "slideshow": {
     "slide_type": "fragment"
    },
    "tags": []
   },
   "source": [
    "### Knowledge is partially excludable."
   ]
  },
  {
   "cell_type": "markdown",
   "id": "ea5f6e9d-3064-438d-b89b-7d18544cd476",
   "metadata": {
    "editable": true,
    "slideshow": {
     "slide_type": "slide"
    },
    "tags": []
   },
   "source": [
    "# Research Question"
   ]
  },
  {
   "cell_type": "markdown",
   "id": "7ff9ad9f-40e8-4e3a-b6a2-ed29280eea80",
   "metadata": {
    "editable": true,
    "slideshow": {
     "slide_type": "fragment"
    },
    "tags": []
   },
   "source": [
    "### Who will innovate?\n",
    "### Who will imitate?\n",
    "### What factors affect innovation?"
   ]
  },
  {
   "cell_type": "markdown",
   "id": "897d365f-76f2-4451-82d7-56e749c75b8c",
   "metadata": {
    "editable": true,
    "slideshow": {
     "slide_type": "slide"
    },
    "tags": []
   },
   "source": [
    "# Methodology"
   ]
  },
  {
   "cell_type": "markdown",
   "id": "91a54841-ffa1-40ef-b872-cd84db501787",
   "metadata": {
    "editable": true,
    "slideshow": {
     "slide_type": "fragment"
    },
    "tags": []
   },
   "source": [
    "## Heterogeneous Agents Setup\n",
    "\n",
    "### Each firm has distinct propensity to invest in R&D and have different preferences in the types of R&D."
   ]
  },
  {
   "cell_type": "markdown",
   "id": "10a145c8-44c8-4590-b1a2-7af262e624c8",
   "metadata": {
    "editable": true,
    "slideshow": {
     "slide_type": "slide"
    },
    "tags": []
   },
   "source": [
    "## Innovation and Imitation Process \n",
    "### as in `Nelson_Winter_1982` and `Dosi_Roventini_Russo_2017`"
   ]
  },
  {
   "cell_type": "markdown",
   "id": "64012063-2038-4464-a6a1-969d8eac18af",
   "metadata": {
    "editable": true,
    "slideshow": {
     "slide_type": "fragment"
    },
    "tags": []
   },
   "source": [
    "### <ins>Step 1</ins> Firm $j$ with productivity $A_j$ can produce $A_j$ output"
   ]
  },
  {
   "cell_type": "markdown",
   "id": "938170e9-fda5-4685-a5d4-4b06ab6f449b",
   "metadata": {
    "editable": true,
    "slideshow": {
     "slide_type": "fragment"
    },
    "tags": []
   },
   "source": [
    "### <ins>Step 2</ins> A fraction $\\rho _j$ of the revenue $A_j$ is revinvested in R&D."
   ]
  },
  {
   "cell_type": "markdown",
   "id": "0384d8bb-cb91-4b6f-b294-5b0de78f313f",
   "metadata": {
    "editable": true,
    "slideshow": {
     "slide_type": "fragment"
    },
    "tags": []
   },
   "source": [
    "### <ins>Step 3</ins> A fraction $\\lambda _j$ of the R&D investment is spent to innovate; the rest is on imitation."
   ]
  },
  {
   "cell_type": "markdown",
   "id": "24fb514b-e6eb-4011-9b81-7edfe40dfdc8",
   "metadata": {
    "editable": true,
    "slideshow": {
     "slide_type": "fragment"
    },
    "tags": []
   },
   "source": [
    "### <ins>Step 4</ins> After $T$ time steps, firms in the bottom 10% for profits (net R&D spending) are eliminated."
   ]
  },
  {
   "cell_type": "markdown",
   "id": "16440b36-0565-4231-b900-e027a9373829",
   "metadata": {
    "editable": true,
    "slideshow": {
     "slide_type": "slide"
    },
    "tags": []
   },
   "source": [
    "## Results\n",
    "\n",
    "## <ins>Prior Distribution</ins>\n",
    "\n",
    "<img src=\"images/0A_survive_20_40_40_20_1.386_1.386.png\" alt=\"prior_dist\">\n",
    "<img src=\"aa.jpg\" alt=\"prior_dist\">\n",
    "\n",
    "![image](images/0A_survive_20_40_40_20_1.386_1.386.jpg)\n",
    "\n",
    "```{figure} images/0A_survive_20_40_40_20_1.386_1.386.jpg\n",
    "---\n",
    "height: 300px\n",
    "name: prior_dist\n",
    "---\n",
    "```"
   ]
  },
  {
   "cell_type": "markdown",
   "id": "56da59b3-7772-4593-94e8-b7663acc63ca",
   "metadata": {
    "editable": true,
    "slideshow": {
     "slide_type": "slide"
    },
    "tags": []
   },
   "source": [
    "## <ins>Both Innovation and Imitation are effective</ins>"
   ]
  },
  {
   "cell_type": "markdown",
   "id": "1542021d-867c-4ea6-b894-427864f38feb",
   "metadata": {
    "editable": true,
    "slideshow": {
     "slide_type": "slide"
    },
    "tags": []
   },
   "source": [
    "## <ins>Only Innovation is effective</ins>"
   ]
  },
  {
   "cell_type": "markdown",
   "id": "dec15b77-9f51-4aeb-a9e9-83c6ebb31d5d",
   "metadata": {
    "editable": true,
    "slideshow": {
     "slide_type": "slide"
    },
    "tags": []
   },
   "source": [
    "## <ins>Only Imitation is effective</ins>"
   ]
  },
  {
   "cell_type": "markdown",
   "id": "8a203224-0c14-4fd8-9d5e-d5c3f8e0c686",
   "metadata": {
    "editable": true,
    "slideshow": {
     "slide_type": "slide"
    },
    "tags": []
   },
   "source": [
    "## <ins>Both Innovation and Imitation are ineffective</ins>"
   ]
  },
  {
   "cell_type": "markdown",
   "id": "836c9565-dde0-468f-aa34-f7cb07850b2f",
   "metadata": {
    "editable": true,
    "slideshow": {
     "slide_type": "slide"
    },
    "tags": []
   },
   "source": [
    "## Convergence"
   ]
  },
  {
   "cell_type": "markdown",
   "id": "794f9bc0-0b09-465f-a9b5-c217a36e7515",
   "metadata": {
    "editable": true,
    "slideshow": {
     "slide_type": "slide"
    },
    "tags": []
   },
   "source": [
    "## Conclusion"
   ]
  }
 ],
 "metadata": {
  "kernelspec": {
   "display_name": "Python 3 (ipykernel)",
   "language": "python",
   "name": "python3"
  },
  "language_info": {
   "codemirror_mode": {
    "name": "ipython",
    "version": 3
   },
   "file_extension": ".py",
   "mimetype": "text/x-python",
   "name": "python",
   "nbconvert_exporter": "python",
   "pygments_lexer": "ipython3",
   "version": "3.10.10"
  }
 },
 "nbformat": 4,
 "nbformat_minor": 5
}
